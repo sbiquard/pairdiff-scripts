{
 "cells": [
  {
   "cell_type": "code",
   "execution_count": 1,
   "metadata": {},
   "outputs": [],
   "source": [
    "import pathlib\n",
    "import numpy as np\n",
    "import matplotlib.pyplot as plt"
   ]
  },
  {
   "cell_type": "code",
   "execution_count": 2,
   "metadata": {},
   "outputs": [],
   "source": [
    "runs_e01 = {\n",
    "    \"pair_diff\": pathlib.Path(\"out/gains/constant/e-01\"),\n",
    "    \"iqu_fit\": pathlib.Path(\"out/gains/constant/iqu/e-01\"),\n",
    "    \"no_atm\": pathlib.Path(\"out/gains/constant/noatm/e-01\"),\n",
    "    \"noatm_nohwp\": pathlib.Path(\"out/gains/constant/noatm_nohwp/e-01\"),\n",
    "}"
   ]
  },
  {
   "cell_type": "code",
   "execution_count": 3,
   "metadata": {},
   "outputs": [],
   "source": [
    "def get_cells(run: pathlib.Path):\n",
    "    cldir = run / \"spectra\"\n",
    "    return {\n",
    "        \"full\": np.load(cldir / \"full_cl.npz\"),\n",
    "        \"noise\": np.load(cldir / \"noise_cl.npz\"),\n",
    "    }"
   ]
  },
  {
   "cell_type": "code",
   "execution_count": null,
   "metadata": {},
   "outputs": [],
   "source": [
    "cells_e01 = {k: get_cells(v) for k, v in runs_e01.items()}"
   ]
  },
  {
   "cell_type": "code",
   "execution_count": 6,
   "metadata": {},
   "outputs": [],
   "source": [
    "cells_baseline = {\n",
    "    \"full\": np.load(\"out/baseline/spectra/full_cl.npz\"),\n",
    "    \"noise\": np.load(\"out/baseline/spectra/noise_cl.npz\"),\n",
    "}"
   ]
  },
  {
   "cell_type": "code",
   "execution_count": null,
   "metadata": {},
   "outputs": [],
   "source": [
    "fig, axs = plt.subplots(1, 2, figsize=(12, 5))\n",
    "fig.suptitle(\"Comparison of runs with 10 percent gain error in all pairs\")\n",
    "axs[0].set_title(\"EE\")\n",
    "axs[1].set_title(\"BB\")\n",
    "ell_arr = cells_baseline[\"full\"][\"ell_arr\"]\n",
    "for ax, idx in zip(axs, [0, 3]):\n",
    "    ax.plot(ell_arr, cells_baseline[\"full\"][\"cl_22\"][idx], \"k\", label=\"baseline\")\n",
    "    ax.plot(ell_arr, cells_baseline[\"noise\"][\"cl_22\"][idx], \"k:\")\n",
    "for k in cells_e01:\n",
    "    for ax, idx in zip(axs, [0, 3]):\n",
    "        line = ax.plot(ell_arr, cells_e01[k][\"full\"][\"cl_22\"][idx], ls=\"solid\", label=k)\n",
    "        ax.plot(ell_arr, cells_e01[k][\"noise\"][\"cl_22\"][idx], ls=\"dotted\", color=line[-1].get_color())\n",
    "for ax in axs.flat:\n",
    "    ax.loglog()\n",
    "    ax.set_xlim(left=20)\n",
    "axs[0].legend()\n",
    "fig.tight_layout()\n",
    "plt.show()"
   ]
  }
 ],
 "metadata": {
  "kernelspec": {
   "display_name": "Python 3",
   "language": "python",
   "name": "python3"
  },
  "language_info": {
   "codemirror_mode": {
    "name": "ipython",
    "version": 3
   },
   "file_extension": ".py",
   "mimetype": "text/x-python",
   "name": "python",
   "nbconvert_exporter": "python",
   "pygments_lexer": "ipython3",
   "version": "3.12.2"
  }
 },
 "nbformat": 4,
 "nbformat_minor": 2
}
